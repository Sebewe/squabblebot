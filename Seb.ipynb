{
 "cells": [
  {
   "cell_type": "code",
   "execution_count": 1,
   "metadata": {
    "cell_id": "9c8ef508-3c9b-425c-a8d5-3457a2c60bf6",
    "deepnote_cell_type": "code",
    "deepnote_to_be_reexecuted": false,
    "execution_millis": 7,
    "execution_start": 1645477612292,
    "source_hash": "53afd7b",
    "tags": []
   },
   "outputs": [],
   "source": [
    "import pandas as pd\n",
    "import numpy as np\n",
    "import random\n",
    "import string"
   ]
  },
  {
   "cell_type": "code",
   "execution_count": 19,
   "metadata": {
    "cell_id": "89efce5a-55a3-4a27-82b2-5d452f9bbfdd",
    "deepnote_cell_type": "code",
    "deepnote_to_be_reexecuted": false,
    "execution_millis": 128,
    "execution_start": 1645477613964,
    "source_hash": "fc963904",
    "tags": []
   },
   "outputs": [],
   "source": [
    "def select_words(file, l):\n",
    "    #takes parameters file and l, returns words in file that only have a length=l.\n",
    "    #accounts for the fact that our word list has \\n after every word, and corrects this data error.\n",
    "    with open(file) as f:\n",
    "         lis = f.readlines()\n",
    "    \n",
    "    new = np.array([])\n",
    "    for word in lis:\n",
    "        word = word[:-1]\n",
    "        if len(word) == l:\n",
    "            new = np.append(new, word)\n",
    "    return new\n",
    "    \n",
    "word_array = select_words('Data/wordle_words.txt', 5)\n",
    "\n",
    "guess_array =  select_words('Data/english_words_full.txt', 5)"
   ]
  },
  {
   "cell_type": "code",
   "execution_count": 20,
   "metadata": {
    "cell_id": "830a08c3-7453-43eb-8c5e-b4d208268a9d",
    "deepnote_cell_type": "code",
    "deepnote_to_be_reexecuted": false,
    "execution_millis": 20,
    "execution_start": 1645478449465,
    "source_hash": "50ced134",
    "tags": []
   },
   "outputs": [],
   "source": [
    "def replace_char(word, char, index):\n",
    "    l_word = list(word)\n",
    "    l_word[index] = char\n",
    "    return \"\".join(l_word)\n",
    "\n",
    "\n",
    "HALF_CORRECT = 1\n",
    "FULL_CORRECT = 2\n",
    "INCORRECT = 0\n",
    "\n",
    "class Squabble:\n",
    "    \n",
    "    #creates a squabble game, parameters are self-evident.\n",
    "    def __init__(self, solution, word_array, max_guesses=6):\n",
    "        self.solution = str.lower(solution)\n",
    "        self.word_array = word_array\n",
    "        self.max_guesses = max_guesses\n",
    "        self.guess_count = 0\n",
    "        self.guesses = np.array([])\n",
    "        self.solved = False\n",
    "\n",
    "    \"\"\" \n",
    "    adds a guess to the list of guesses\n",
    "    returns an array of numbers, each item in the array corresponds to a character, in order.\n",
    "     NOTHING = not in word (Gray), \n",
    "     HALF_CORRECT = in word but wrong spot (Yellow), \n",
    "     FULL_CORRECT = in word and in correct place (Green)\n",
    "    \"\"\"\n",
    "    def guess(self, guess):\n",
    "        guess = str.lower(guess)\n",
    "        self.guesses = np.append(self.guesses, guess)\n",
    "        self.guess_count += 1\n",
    "\n",
    "        #if our guess isnt a viable word, we return None\n",
    "        #if not guess in word_array:\n",
    "        #    return None\n",
    "\n",
    "        #return list of FULL_CORRECT if we guessed the solution\n",
    "        if guess == self.solution or self.guess_count >= self.max_guesses:\n",
    "            self.solved = True\n",
    "        #if we didnt get it correct, and we are out of guesses \n",
    "\n",
    "        guess_values = [INCORRECT for i in range(len(self.solution))]\n",
    "        temp_solution = self.solution\n",
    "\n",
    "        #sets our green letters == FULL_CORRECT\n",
    "        #removes green letters from the solution so that we don't have errors\n",
    "        for i in range(len(self.solution)):\n",
    "            if temp_solution[i] == guess[i]:\n",
    "                temp_solution = replace_char(temp_solution, ' ', i)\n",
    "                guess_values[i] = FULL_CORRECT\n",
    "\n",
    "        #sets our yellow letters == HALF_CORRECT\n",
    "        #removes yellow letters from solution so that we dont have repeating yellows\n",
    "        for i in range(len(guess)):\n",
    "            if guess[i] in temp_solution and not guess_values[i] == FULL_CORRECT:\n",
    "                guess_values[i] = HALF_CORRECT\n",
    "                temp_solution = replace_char(temp_solution, ' ', temp_solution.find(guess[i]))\n",
    "        return guess_values"
   ]
  },
  {
   "cell_type": "code",
   "execution_count": 21,
   "metadata": {
    "cell_id": "5057b649-6146-470e-858f-c2e089182a50",
    "deepnote_cell_type": "code",
    "deepnote_to_be_reexecuted": false,
    "execution_millis": 2,
    "execution_start": 1645478759219,
    "source_hash": "cd7b4b91",
    "tags": []
   },
   "outputs": [],
   "source": [
    "\"\"\"\n",
    "next guess is used to calculate the best next guesses, and it ranks them for you :)\n",
    "     0 means letter is gray, and final word will nto contain it\n",
    "     1 means letter is yellow, final word has letter but not in that spot\n",
    "     2 means letter is green, final word has that letter in that position\n",
    "word_array is all available words\n",
    "\"\"\"\n",
    "def next_guess(guess, values, avail_words):\n",
    "    if len(guess) != len(values):\n",
    "        raise BaseException\n",
    "    \n",
    "    guess = list(guess)\n",
    "\n",
    "    for i in range(len(guess)):\n",
    "        values[i] = int(values[i])\n",
    "        guess[i] = str(guess[i])\n",
    "\n",
    "        if values[i] != 0 :\n",
    "            avail_words = reduce_word_array(avail_words, values[i], guess[i], i)\n",
    "        elif det_mult_char(guess.copy(), values.copy(), i):\n",
    "            avail_words = reduce_word_array(avail_words, values[i], guess[i], i)\n",
    "        else:\n",
    "            avail_words = reduce_word_array(avail_words, 3, guess[i], i)\n",
    "\n",
    "    return get_rankings(avail_words), avail_words\n",
    "\n",
    "\"\"\"\n",
    "this function determines if there are multiple of the same characters, and one of them is green/yellow\n",
    "if there are, it will return FALSE if one of them is green/yellow,\n",
    "otherwise (meaning they are all grey) it will return TRUE\n",
    "this is useful so we dont delete words that contain a green/yellow char just because it is\n",
    "grey in one location\n",
    "\"\"\"\n",
    "def det_mult_char(chars, values, i):\n",
    "    char = chars[i]\n",
    "    indexes = []\n",
    "    for ind, x in enumerate(chars):\n",
    "        if char == x:\n",
    "            indexes.append(ind)\n",
    "\n",
    "    if(len(indexes) == 1):\n",
    "        return True\n",
    "\n",
    "    all_grey = True\n",
    "    for ind in indexes:\n",
    "        if values[ind] != 0:\n",
    "            all_grey = False\n",
    "            break\n",
    "\n",
    "    return all_grey\n",
    "\n",
    "\n",
    "\"\"\"\n",
    "reduce word array reduces the available words to help calculation\n",
    "reduce type is the type of reduction: 0 = grey   : word cannot contain it\n",
    "                                      1 = yellow : char in word but not in current index\n",
    "                                      2 = green  : char in word at index\n",
    "                                      3 = special grey: char not in word at that index\n",
    "\"\"\"\n",
    "def reduce_word_array(avail_words, reduce_type, char, index=-1):\n",
    "    deleters = []\n",
    "    if reduce_type == 0: #grey\n",
    "        for i, word in enumerate(avail_words):\n",
    "            if char in word:\n",
    "                deleters.append(i)\n",
    "    if reduce_type == 1: # yellow\n",
    "        for i, word in enumerate(avail_words):\n",
    "            if word[index] == char or not char in word:\n",
    "                deleters.append(i)\n",
    "    if reduce_type == 2: #green\n",
    "        for i, word in enumerate(avail_words):\n",
    "            if word[index] != char:\n",
    "                deleters.append(i)\n",
    "    if reduce_type == 3: #special grey\n",
    "        for i, word in enumerate(avail_words):\n",
    "            if word[index] == char:\n",
    "                deleters.append(i)\n",
    "    avail_words = np.delete(avail_words, deleters)\n",
    "    return avail_words\n",
    "\n",
    "\n",
    "\n",
    "\"\"\"\n",
    "Better word score takes in a word and returns how much value it has\n",
    "Useful for finding best guess\n",
    "\"\"\"\n",
    "def better_word_score(word, char_val):\n",
    "    total = 0\n",
    "    dead = []\n",
    "    for char in word:\n",
    "        if not char in dead:\n",
    "            dead.append(char)\n",
    "            total += char_val[char]\n",
    "    return total\n",
    "\n",
    "\"\"\"\n",
    "Sort rankings takes a list of values and words\n",
    "sorts them to help find best guesses\n",
    "\"\"\"\n",
    "def sort_rankings(rankings, words):\n",
    "    df = pd.DataFrame()\n",
    "    df = df.assign(word=words)\n",
    "    df = df.assign(value=rankings)\n",
    "    return df.set_index('word').sort_values(by='value', ascending=False)\n",
    "\n",
    "\"\"\"\n",
    "ranks all words based on the value of characters\n",
    "\"\"\"\n",
    "def get_word_rankings(words, alphabet_value):\n",
    "    word_value = np.array([])\n",
    "    for word in words:\n",
    "        word_value = np.append(word_value, better_word_score(word, alphabet_value))\n",
    "    return word_value\n",
    "\n",
    "\"\"\"\n",
    "ranks all characters based on their frequency\n",
    "\"\"\"\n",
    "def get_alphabet_value(words):\n",
    "    alphabet = list(string.ascii_lowercase)\n",
    "    alphabet_count = {}\n",
    "    for char in alphabet:\n",
    "        alphabet_count[char] = 0\n",
    "\n",
    "    for word in words:\n",
    "        for char in word:\n",
    "            alphabet_count[char] += 1\n",
    "\n",
    "    values = np.array(list(alphabet_count.values())) / len(words)*5\n",
    "\n",
    "    alphabet_value = {}\n",
    "    for i, char in enumerate(alphabet):\n",
    "        alphabet_value[char] = values[i]\n",
    "    \n",
    "    return alphabet_value\n",
    "\n",
    "\n",
    "def get_rankings(avail_words):\n",
    "    return sort_rankings(get_word_rankings(avail_words, get_alphabet_value(avail_words)), avail_words)"
   ]
  },
  {
   "cell_type": "code",
   "execution_count": 50,
   "metadata": {
    "cell_id": "27057b8f-4bf0-4668-aadc-ec612dd44922",
    "deepnote_cell_type": "code",
    "deepnote_to_be_reexecuted": false,
    "execution_millis": 17,
    "execution_start": 1645478791339,
    "source_hash": "df645f9a",
    "tags": []
   },
   "outputs": [],
   "source": [
    "class SquabbleBot:\n",
    "    def __init__(self, guess_words):\n",
    "        self.avail_words = guess_words\n",
    "\n",
    "    def get_guess(self, human=True, guess=None, values=None):\n",
    "\n",
    "        if human:\n",
    "            bugged = True\n",
    "            while bugged:\n",
    "                guess = list(input(\"What did you guess?\"))\n",
    "                bugged = False\n",
    "                for i, char in enumerate(guess):\n",
    "                    if char == '0' or char == '1' or char == '2':\n",
    "                        bugged = True\n",
    "                if(i!=4):\n",
    "                    bugged = True\n",
    "            bugged = True\n",
    "            while bugged:\n",
    "                values = list(input(\"And what were the values?\"))\n",
    "                bugged = False\n",
    "                for i, _int in enumerate(values):\n",
    "                    if _int != '0' and _int != '1' and _int != '2':\n",
    "                        bugged = True\n",
    "                if(i!=4):\n",
    "                    bugged = True\n",
    "\n",
    "\n",
    "        \"\"\"\n",
    "        0 = gray\n",
    "        1 = yellow\n",
    "        2 = green\n",
    "        \"\"\"\n",
    "\n",
    "\n",
    "        rankings, self.avail_words = next_guess(guess, values, self.avail_words)\n",
    "        #print(rankings.iloc[:3])\n",
    "        if(human):\n",
    "            return rankings.iloc[:5]\n",
    "        else:\n",
    "            try:\n",
    "                return rankings.index[0]\n",
    "            except IndexError:\n",
    "                print('error, rankings reduced to 0 size ):')\n",
    "                print(rankings, guess, values, self.avail_words)\n",
    "                raise IndexError\n",
    "\n",
    "    "
   ]
  },
  {
   "cell_type": "code",
   "execution_count": 32,
   "metadata": {
    "cell_id": "b3024a16-2d8c-471d-88f8-11bedd9dadec",
    "deepnote_cell_type": "code",
    "deepnote_to_be_reexecuted": false,
    "execution_millis": 89788,
    "execution_start": 1645478792293,
    "scrolled": true,
    "source_hash": "83716494",
    "tags": []
   },
   "outputs": [
    {
     "name": "stdout",
     "output_type": "stream",
     "text": [
      "Game # 0  word: aback numguesses: 4 lastguess: aback  values: [2, 2, 2, 2, 2]\n",
      "Game # 100  word: aptly numguesses: 2 lastguess: aptly  values: [2, 2, 2, 2, 2]\n",
      "Game # 200  word: birch numguesses: 3 lastguess: birch  values: [2, 2, 2, 2, 2]\n",
      "Game # 300  word: bulky numguesses: 3 lastguess: bulky  values: [2, 2, 2, 2, 2]\n",
      "Game # 400  word: clash numguesses: 3 lastguess: clash  values: [2, 2, 2, 2, 2]\n",
      "Game # 500  word: cubic numguesses: 4 lastguess: cubic  values: [2, 2, 2, 2, 2]\n",
      "Game # 600  word: drone numguesses: 3 lastguess: drone  values: [2, 2, 2, 2, 2]\n",
      "Game # 700  word: false numguesses: 3 lastguess: false  values: [2, 2, 2, 2, 2]\n",
      "Game # 800  word: frail numguesses: 4 lastguess: frail  values: [2, 2, 2, 2, 2]\n",
      "Game # 900  word: grasp numguesses: 4 lastguess: grasp  values: [2, 2, 2, 2, 2]\n",
      "Game # 1000  word: human numguesses: 3 lastguess: human  values: [2, 2, 2, 2, 2]\n",
      "Game # 1100  word: lasso numguesses: 4 lastguess: lasso  values: [2, 2, 2, 2, 2]\n",
      "Game # 1200  word: march numguesses: 5 lastguess: march  values: [2, 2, 2, 2, 2]\n",
      "Game # 1300  word: niche numguesses: 3 lastguess: niche  values: [2, 2, 2, 2, 2]\n",
      "Game # 1400  word: pesto numguesses: 4 lastguess: pesto  values: [2, 2, 2, 2, 2]\n",
      "Game # 1500  word: purse numguesses: 3 lastguess: purse  values: [2, 2, 2, 2, 2]\n",
      "Game # 1600  word: rival numguesses: 3 lastguess: rival  values: [2, 2, 2, 2, 2]\n",
      "Game # 1700  word: shady numguesses: 5 lastguess: shady  values: [2, 2, 2, 2, 2]\n",
      "Game # 1800  word: smack numguesses: 4 lastguess: smack  values: [2, 2, 2, 2, 2]\n",
      "Game # 1900  word: stair numguesses: 3 lastguess: stair  values: [2, 2, 2, 2, 2]\n",
      "Game # 2000  word: taboo numguesses: 4 lastguess: taboo  values: [2, 2, 2, 2, 2]\n",
      "Game # 2100  word: tramp numguesses: 4 lastguess: tramp  values: [2, 2, 2, 2, 2]\n",
      "Game # 2200  word: vigor numguesses: 3 lastguess: vigor  values: [2, 2, 2, 2, 2]\n",
      "Game # 2300  word: wrist numguesses: 4 lastguess: wrist  values: [2, 2, 2, 2, 2]\n"
     ]
    }
   ],
   "source": [
    "FIRST_GUESS = 'alert'\n",
    "def test_bot(test_words, total_words):\n",
    "    solution_words = np.array([])\n",
    "    solution_times = np.array([])\n",
    "    for i, word in enumerate(test_words):\n",
    "        bot = SquabbleBot(total_words)\n",
    "        game = Squabble(word, word_array, max_guesses=6)\n",
    "        \n",
    "        values = game.guess(FIRST_GUESS)\n",
    "        guess = bot.get_guess(human=False, guess=FIRST_GUESS, values=values)\n",
    "\n",
    "        while not game.solved:\n",
    "            values = game.guess(guess)\n",
    "            guess = bot.get_guess(human=False, guess=guess, values=values)\n",
    "        \n",
    "        solution_words = np.append(solution_words, game.solution)\n",
    "        solution_times = np.append(solution_times, game.guess_count)\n",
    "        if(i % 100 == 0):\n",
    "            print('Game #',i,' word:',word, 'numguesses:', game.guess_count, 'lastguess:', guess, ' values:', values)\n",
    "    \n",
    "    return solution_words, solution_times\n",
    "        \n",
    "    \n",
    "words, times = test_bot(word_array, word_array)"
   ]
  },
  {
   "cell_type": "code",
   "execution_count": 51,
   "metadata": {
    "cell_id": "4e248fab-2ee0-4143-b849-6c398f25056c",
    "deepnote_cell_type": "code",
    "deepnote_to_be_reexecuted": false,
    "execution_millis": 10,
    "execution_start": 1645478888245,
    "source_hash": "f6e21c77",
    "tags": []
   },
   "outputs": [],
   "source": [
    "df = pd.DataFrame()\n",
    "df.insert(0, 'word', words)\n",
    "df.insert(0, 'time', times)"
   ]
  },
  {
   "cell_type": "code",
   "execution_count": 52,
   "metadata": {
    "cell_id": "9cbfd4c4-6c99-4496-9d66-49cbb1e1528c",
    "deepnote_cell_type": "code",
    "deepnote_to_be_reexecuted": false,
    "execution_millis": 607,
    "execution_start": 1645479099330,
    "source_hash": "c5d8fe90",
    "tags": []
   },
   "outputs": [
    {
     "data": {
      "text/plain": [
       "<AxesSubplot:ylabel='Frequency'>"
      ]
     },
     "execution_count": 52,
     "metadata": {},
     "output_type": "execute_result"
    },
    {
     "data": {
      "image/png": "[encoded data removed]",
      "text/plain": [
       "<Figure size 432x288 with 1 Axes>"
      ]
     },
     "metadata": {
      "needs_background": "light"
     },
     "output_type": "display_data"
    }
   ],
   "source": [
    "df.plot(kind='hist', by='time', ec='w', bins=np.arange(1.5, 6.6, 1))"
   ]
  },
  {
   "cell_type": "code",
   "execution_count": 53,
   "metadata": {
    "cell_id": "1f30082d-cf5f-4aeb-a111-35a473c95331",
    "deepnote_cell_type": "code",
    "deepnote_to_be_reexecuted": false,
    "execution_millis": 32,
    "execution_start": 1645479163260,
    "source_hash": "d4c4f64",
    "tags": []
   },
   "outputs": [
    {
     "data": {
      "text/plain": [
       "time    3.672429\n",
       "dtype: float64"
      ]
     },
     "execution_count": 53,
     "metadata": {},
     "output_type": "execute_result"
    }
   ],
   "source": [
    "df.get(['time']).mean()"
   ]
  },
  {
   "cell_type": "code",
   "execution_count": 55,
   "metadata": {
    "cell_id": "ec00e1c8-2f47-4e3d-808f-75bbb0439dc0",
    "deepnote_cell_type": "code",
    "deepnote_to_be_reexecuted": false,
    "execution_millis": 31,
    "execution_start": 1645479000980,
    "source_hash": "34e938f5",
    "tags": []
   },
   "outputs": [
    {
     "name": "stdout",
     "output_type": "stream",
     "text": [
      "What did you guess?alert\n",
      "And what were the values?10100\n",
      "           value\n",
      "word            \n",
      "chase  15.081967\n",
      "sauce  14.672131\n",
      "space  14.672131\n",
      "cause  14.672131\n",
      "shave  14.590164\n",
      "What did you guess?chase\n",
      "And what were the values?20122\n",
      "       value\n",
      "word        \n",
      "cause   25.0\n"
     ]
    }
   ],
   "source": [
    "bot = SquabbleBot(word_array)\n",
    "guess = bot.get_guess()\n",
    "print(guess)\n",
    "\n",
    "while guess.size > 1:\n",
    "    guess = bot.get_guess()\n",
    "    print(guess)"
   ]
  },
  {
   "cell_type": "code",
   "execution_count": 44,
   "metadata": {},
   "outputs": [
    {
     "data": {
      "text/plain": [
       "5"
      ]
     },
     "execution_count": 44,
     "metadata": {},
     "output_type": "execute_result"
    }
   ],
   "source": []
  },
  {
   "cell_type": "code",
   "execution_count": null,
   "metadata": {},
   "outputs": [],
   "source": []
  }
 ],
 "metadata": {
  "deepnote": {
   "is_reactive": false
  },
  "deepnote_execution_queue": [],
  "deepnote_notebook_id": "4f396d6d-8131-445e-8dd9-96b7a3667bcd",
  "kernelspec": {
   "display_name": "Python 3 (ipykernel)",
   "language": "python",
   "name": "python3"
  },
  "language_info": {
   "codemirror_mode": {
    "name": "ipython",
    "version": 3
   },
   "file_extension": ".py",
   "mimetype": "text/x-python",
   "name": "python",
   "nbconvert_exporter": "python",
   "pygments_lexer": "ipython3",
   "version": "3.8.9"
  }
 },
 "nbformat": 4,
 "nbformat_minor": 2
}
