{
 "cells": [
  {
   "cell_type": "code",
   "metadata": {
    "tags": [],
    "cell_id": "9c8ef508-3c9b-425c-a8d5-3457a2c60bf6",
    "deepnote_to_be_reexecuted": false,
    "source_hash": "53afd7b",
    "execution_start": 1645436030827,
    "execution_millis": 11,
    "deepnote_cell_type": "code"
   },
   "source": "import pandas as pd\nimport numpy as np\nimport random\nimport string",
   "execution_count": 39,
   "outputs": []
  },
  {
   "cell_type": "code",
   "metadata": {
    "cell_id": "89efce5a-55a3-4a27-82b2-5d452f9bbfdd",
    "tags": [],
    "deepnote_to_be_reexecuted": false,
    "source_hash": "f49ba7f9",
    "execution_start": 1645438859588,
    "execution_millis": 9024,
    "deepnote_cell_type": "code"
   },
   "source": "with open('Data/wordle_words.txt') as f:\n    lines = f.readlines()\n\ndef select_words(lis, l):\n    #takes parameters l and lis, returns values of lis that only have a length=l.\n    #accounts for the fact that our word list has \\n after every word, and corrects this data error.\n    new = np.array([])\n    for word in lis:\n        word = word[:-1]\n        if len(word) == l:\n            new = np.append(new, word)\n    return new\n    \nword_array = select_words(lines, 5)",
   "execution_count": 69,
   "outputs": []
  },
  {
   "cell_type": "code",
   "metadata": {
    "cell_id": "830a08c3-7453-43eb-8c5e-b4d208268a9d",
    "tags": [],
    "deepnote_to_be_reexecuted": false,
    "source_hash": "50ced134",
    "execution_start": 1645438868628,
    "execution_millis": 46,
    "deepnote_cell_type": "code"
   },
   "source": "def replace_char(word, char, index):\n    l_word = list(word)\n    l_word[index] = char\n    return \"\".join(l_word)\n\n\nHALF_CORRECT = 1\nFULL_CORRECT = 2\nINCORRECT = 0\n\nclass Squabble:\n    \n    #creates a squabble game, parameters are self-evident.\n    def __init__(self, solution, word_array, max_guesses=6):\n        self.solution = str.lower(solution)\n        self.word_array = word_array\n        self.max_guesses = max_guesses\n        self.guess_count = 0\n        self.guesses = np.array([])\n        self.solved = False\n\n    \"\"\" \n    adds a guess to the list of guesses\n    returns an array of numbers, each item in the array corresponds to a character, in order.\n     NOTHING = not in word (Gray), \n     HALF_CORRECT = in word but wrong spot (Yellow), \n     FULL_CORRECT = in word and in correct place (Green)\n    \"\"\"\n    def guess(self, guess):\n        guess = str.lower(guess)\n        self.guesses = np.append(self.guesses, guess)\n        self.guess_count += 1\n\n        #if our guess isnt a viable word, we return None\n        #if not guess in word_array:\n        #    return None\n\n        #return list of FULL_CORRECT if we guessed the solution\n        if guess == self.solution or self.guess_count >= self.max_guesses:\n            self.solved = True\n        #if we didnt get it correct, and we are out of guesses \n\n        guess_values = [INCORRECT for i in range(len(self.solution))]\n        temp_solution = self.solution\n\n        #sets our green letters == FULL_CORRECT\n        #removes green letters from the solution so that we don't have errors\n        for i in range(len(self.solution)):\n            if temp_solution[i] == guess[i]:\n                temp_solution = replace_char(temp_solution, ' ', i)\n                guess_values[i] = FULL_CORRECT\n\n        #sets our yellow letters == HALF_CORRECT\n        #removes yellow letters from solution so that we dont have repeating yellows\n        for i in range(len(guess)):\n            if guess[i] in temp_solution and not guess_values[i] == FULL_CORRECT:\n                guess_values[i] = HALF_CORRECT\n                temp_solution = replace_char(temp_solution, ' ', temp_solution.find(guess[i]))\n        return guess_values",
   "execution_count": 70,
   "outputs": []
  },
  {
   "cell_type": "code",
   "metadata": {
    "cell_id": "f5c2ea37-c0a3-4ac4-9afe-aa83121fe0fb",
    "tags": [],
    "deepnote_to_be_reexecuted": false,
    "source_hash": "f8088824",
    "execution_start": 1645438868686,
    "execution_millis": 468,
    "deepnote_cell_type": "code"
   },
   "source": "game = Squabble(word_array[random.randint(0, len(word_array))], word_array)\ngame.solution",
   "execution_count": 71,
   "outputs": [
    {
     "output_type": "execute_result",
     "execution_count": 71,
     "data": {
      "text/plain": "'mizzy'"
     },
     "metadata": {}
    }
   ]
  },
  {
   "cell_type": "code",
   "metadata": {
    "cell_id": "688f9960-5282-4a47-ae50-d71f83559e94",
    "tags": [],
    "deepnote_to_be_reexecuted": false,
    "source_hash": "e18e035b",
    "execution_start": 1645438868769,
    "execution_millis": 399,
    "deepnote_table_state": {
     "pageSize": 10,
     "pageIndex": 0,
     "filters": [],
     "sortBy": []
    },
    "deepnote_table_loading": false,
    "deepnote_table_invalid": false,
    "deepnote_cell_type": "code"
   },
   "source": "\n\"\"\"\n_values = list(alphabet_value.values())\n_chars = list(alphabet_value.keys())\ndata = pd.DataFrame()\ndata = data.assign(values=_values)\ndata = data.assign(ind=_chars)\ndata = data.set_index('ind')\ndata.sort_values(by='values', ascending=False)\n\"\"\"\n0",
   "execution_count": 72,
   "outputs": [
    {
     "output_type": "execute_result",
     "execution_count": 72,
     "data": {
      "text/plain": "0"
     },
     "metadata": {}
    }
   ]
  },
  {
   "cell_type": "code",
   "metadata": {
    "cell_id": "5057b649-6146-470e-858f-c2e089182a50",
    "tags": [],
    "deepnote_to_be_reexecuted": false,
    "source_hash": "b3c0a466",
    "execution_start": 1645438868816,
    "execution_millis": 45,
    "deepnote_cell_type": "code"
   },
   "source": "\"\"\"\nnext guess is used to calculate the best next guesses, and it ranks them for you :)\n     0 means letter is gray, and final word will nto contain it\n     1 means letter is yellow, final word has letter but not in that spot\n     2 means letter is green, final word has that letter in that position\nword_array is all available words\n\"\"\"\ndef next_guess(guess, values, avail_words):\n    if len(guess) != len(values):\n        raise BaseException\n    \n    guess = list(guess)\n\n    for i in range(len(guess)):\n        values[i] = int(values[i])\n        guess[i] = str(guess[i])\n\n        if values[i] != 0 :\n            avail_words = reduce_word_array(avail_words, values[i], guess[i], i)\n        elif det_mult_char(guess.copy(), values.copy(), i):\n            avail_words = reduce_word_array(avail_words, values[i], guess[i], i)\n        else:\n            avail_words = reduce_word_array(avail_words, 3, guess[i], i)\n\n    return get_rankings(avail_words), avail_words\n\n\"\"\"\nthis function determines if there are multiple of the same characters, and one of them is green/yellow\nif there are, it will return FALSE if one of them is green/yellow,\notherwise (meaning they are all grey) it will return TRUE\nthis is useful so we dont delete words that contain a green/yellow char just because it is\ngrey in one location\n\"\"\"\ndef det_mult_char(chars, values, i):\n    char = chars[i]\n    indexes = []\n    for ind, x in enumerate(chars):\n        if char == x:\n            indexes.append(ind)\n\n    if(len(indexes) == 1):\n        return True\n\n    all_grey = True\n    for ind in indexes:\n        if values[ind] != 0:\n            all_grey = False\n            break\n\n    return all_grey\n\n\n\"\"\"\nreduce word array reduces the available words to help calculation\nreduce type is the type of reduction: 0 = grey   : word cannot contain it\n                                      1 = yellow : char in word but not in current index\n                                      2 = green  : char in word at index\n                                      3 = special grey: char not in word at that index\n\"\"\"\ndef reduce_word_array(avail_words, reduce_type, char, index=-1):\n    deleters = []\n    if reduce_type == 0: #grey\n        for i, word in enumerate(avail_words):\n            if char in word:\n                deleters.append(i)\n    if reduce_type == 1: # yellow\n        for i, word in enumerate(avail_words):\n            if word[index] == char or not char in word:\n                deleters.append(i)\n    if reduce_type == 2: #green\n        for i, word in enumerate(avail_words):\n            if word[index] != char:\n                deleters.append(i)\n    if reduce_type == 3: #special grey\n        for i, word in enumerate(avail_words):\n            if word[index] == char:\n                deleters.append(i)\n    avail_words = np.delete(avail_words, deleters)\n    return avail_words\n\n\n\n\"\"\"\nBetter word score takes in a word and returns how much value it has\nUseful for finding best guess\n\"\"\"\ndef better_word_score(word, char_val):\n    total = 0\n    dead = []\n    for char in word:\n        if not char in dead:\n            dead.append(char)\n            total += char_val[char]\n    return total\n\n\"\"\"\nSort rankings takes a list of values and words\nsorts them to help find best guesses\n\"\"\"\ndef sort_rankings(rankings, words):\n    df = pd.DataFrame()\n    df = df.assign(word=words)\n    df = df.assign(value=rankings)\n    return df.set_index('word').sort_values(by='value', ascending=False)\n\n\"\"\"\nranks all words based on the value of characters\n\"\"\"\ndef get_word_rankings(words, alphabet_value):\n    word_value = np.array([])\n    for word in words:\n        word_value = np.append(word_value, better_word_score(word, alphabet_value))\n    return word_value\n\n\"\"\"\nranks all characters based on their frequency\n\"\"\"\ndef get_alphabet_value(words):\n    alphabet = list(string.ascii_lowercase)\n    alphabet_count = {}\n    for char in alphabet:\n        alphabet_count[char] = 0\n\n    for word in words:\n        for char in word:\n            alphabet_count[char] += 1\n\n    values = np.array(list(alphabet_count.values())) / len(words)*5\n\n    alphabet_value = {}\n    for i, char in enumerate(alphabet):\n        alphabet_value[char] = values[i]\n    \n    return alphabet_value\n\n\ndef get_rankings(avail_words):\n    return sort_rankings(get_word_rankings(avail_words, get_alphabet_value(avail_words)), avail_words)\n",
   "execution_count": 73,
   "outputs": []
  },
  {
   "cell_type": "code",
   "metadata": {
    "cell_id": "27057b8f-4bf0-4668-aadc-ec612dd44922",
    "tags": [],
    "deepnote_to_be_reexecuted": false,
    "source_hash": "83b4e7c1",
    "execution_start": 1645438868861,
    "execution_millis": 25,
    "deepnote_cell_type": "code"
   },
   "source": "class SquabbleBot:\n    def __init__(self):\n        self.avail_words = word_array\n\n    def get_guess(self, human=True, guess=None, values=None):\n\n        if human:\n            bugged = True\n            while bugged:\n                guess = list(input(\"What did you guess?\"))\n                bugged = False\n                for i, char in enumerate(guess):\n                    if type(char) != str:\n                        bugged = True\n                if(i!=4):\n                    bugged = True\n            bugged = True\n            while bugged:\n                values = list(input(\"And what were the values?\"))\n                bugged = False\n                for i, _int in enumerate(values):\n                    if _int != '0' and _int != '1' and _int != '2':\n                        bugged = True\n                if(i!=4):\n                    bugged = True\n\n\n        \"\"\"\n        0 = gray\n        1 = yellow\n        2 = green\n        \"\"\"\n\n\n        rankings, self.avail_words = next_guess(guess, values, self.avail_words)\n        #print(rankings.iloc[:3])\n        if(human):\n            return rankings.iloc[:5]\n        else:\n            try:\n                return rankings.index[0]\n            except IndexError:\n                print('error, rankings reduced to 0 size ):')\n                print(rankings, guess, values, self.avail_words)\n                raise IndexError\n\n    \n",
   "execution_count": 74,
   "outputs": []
  },
  {
   "cell_type": "code",
   "metadata": {
    "cell_id": "133c3c9d-35c2-496a-ad5d-baeff951f155",
    "tags": [],
    "deepnote_to_be_reexecuted": false,
    "source_hash": "c5701eb2",
    "execution_start": 1645438868899,
    "execution_millis": 13,
    "deepnote_table_state": {
     "pageSize": 10,
     "pageIndex": 0,
     "filters": [],
     "sortBy": []
    },
    "deepnote_table_loading": false,
    "deepnote_cell_type": "code"
   },
   "source": "def initialize_bot():\n    bot = SquabbleBot()\n    while(input(\"Done?\")!= 'y'):\n        print(bot.get_guess())\n\n#initialize_bot()",
   "execution_count": 75,
   "outputs": []
  },
  {
   "cell_type": "code",
   "metadata": {
    "cell_id": "b3024a16-2d8c-471d-88f8-11bedd9dadec",
    "tags": [],
    "deepnote_to_be_reexecuted": false,
    "source_hash": "83716494",
    "execution_start": 1645438868936,
    "execution_millis": 2985356,
    "deepnote_cell_type": "code"
   },
   "source": "FIRST_GUESS = 'alert'\ndef test_bot(test_words):\n    solution_words = np.array([])\n    solution_times = np.array([])\n    for i, word in enumerate(test_words):\n        bot = SquabbleBot()\n        game = Squabble(word, word_array, max_guesses=6)\n        \n        values = game.guess(FIRST_GUESS)\n        guess = bot.get_guess(human=False, guess=FIRST_GUESS, values=values)\n\n        while not game.solved:\n            values = game.guess(guess)\n            guess = bot.get_guess(human=False, guess=guess, values=values)\n        \n        solution_words = np.append(solution_words, game.solution)\n        solution_times = np.append(solution_times, game.guess_count)\n        if(i % 100 == 0):\n            print('Guess #',i,' word:',word, 'numguesses:', game.guess_count, 'lastguess:', guess, ' values:', values)\n    \n    return solution_words, solution_times\n        \n    \nwords, times = test_bot(word_array)",
   "execution_count": 76,
   "outputs": [
    {
     "name": "stdout",
     "text": "Guess # 0  word: aahed numguesses: 5 lastguess: aahed  values: [2, 2, 2, 2, 2]\nGuess # 100  word: acerb numguesses: 4 lastguess: acerb  values: [2, 2, 2, 2, 2]\nGuess # 200  word: adown numguesses: 4 lastguess: adown  values: [2, 2, 2, 2, 2]\nGuess # 300  word: agone numguesses: 4 lastguess: agone  values: [2, 2, 2, 2, 2]\nGuess # 400  word: alamo numguesses: 4 lastguess: alamo  values: [2, 2, 2, 2, 2]\nGuess # 500  word: almud numguesses: 5 lastguess: almud  values: [2, 2, 2, 2, 2]\nGuess # 600  word: amiss numguesses: 5 lastguess: amiss  values: [2, 2, 2, 2, 2]\nGuess # 700  word: anoas numguesses: 5 lastguess: anoas  values: [2, 2, 2, 2, 2]\nGuess # 800  word: arage numguesses: 5 lastguess: arage  values: [2, 2, 2, 2, 2]\nGuess # 900  word: arrah numguesses: 6 lastguess: arrah  values: [2, 2, 2, 2, 2]\nGuess # 1000  word: ateba numguesses: 3 lastguess: ateba  values: [2, 2, 2, 2, 2]\nGuess # 1100  word: avoid numguesses: 4 lastguess: avoid  values: [2, 2, 2, 2, 2]\nGuess # 1200  word: badly numguesses: 4 lastguess: badly  values: [2, 2, 2, 2, 2]\nGuess # 1300  word: bangs numguesses: 4 lastguess: bangs  values: [2, 2, 2, 2, 2]\nGuess # 1400  word: bauld numguesses: 3 lastguess: bauld  values: [2, 2, 2, 2, 2]\nGuess # 1500  word: behen numguesses: 5 lastguess: behen  values: [2, 2, 2, 2, 2]\nGuess # 1600  word: betes numguesses: 6 lastguess: betes  values: [2, 2, 2, 2, 2]\nGuess # 1700  word: bingo numguesses: 4 lastguess: bingo  values: [2, 2, 2, 2, 2]\nGuess # 1800  word: bless numguesses: 6 lastguess: bless  values: [2, 2, 2, 2, 2]\nGuess # 1900  word: bokos numguesses: 5 lastguess: bokos  values: [2, 2, 2, 2, 2]\nGuess # 2000  word: bouch numguesses: 4 lastguess: bouch  values: [2, 2, 2, 2, 2]\nGuess # 2100  word: bribe numguesses: 6 lastguess: bribe  values: [2, 2, 2, 0, 2]\nGuess # 2200  word: buffs numguesses: 4 lastguess: buffs  values: [2, 2, 2, 2, 2]\nGuess # 2300  word: butyl numguesses: 3 lastguess: butyl  values: [2, 2, 2, 2, 2]\nGuess # 2400  word: callo numguesses: 6 lastguess: callo  values: [2, 2, 2, 2, 2]\nGuess # 2500  word: carte numguesses: 3 lastguess: carte  values: [2, 2, 2, 2, 2]\nGuess # 2600  word: cequi numguesses: 5 lastguess: cequi  values: [2, 2, 2, 2, 2]\nGuess # 2700  word: cheth numguesses: 3 lastguess: cheth  values: [2, 2, 2, 2, 2]\nGuess # 2800  word: chuff numguesses: 5 lastguess: chuff  values: [2, 2, 2, 2, 2]\nGuess # 2900  word: claro numguesses: 4 lastguess: claro  values: [2, 2, 2, 2, 2]\nGuess # 3000  word: coaxy numguesses: 4 lastguess: coaxy  values: [2, 2, 2, 2, 2]\nGuess # 3100  word: comme numguesses: 6 lastguess: comme  values: [2, 2, 2, 2, 2]\nGuess # 3200  word: corks numguesses: 4 lastguess: corks  values: [2, 2, 2, 2, 2]\nGuess # 3300  word: crate numguesses: 4 lastguess: crate  values: [2, 2, 2, 2, 2]\nGuess # 3400  word: crwth numguesses: 4 lastguess: crwth  values: [2, 2, 2, 2, 2]\nGuess # 3500  word: cuter numguesses: 5 lastguess: cuter  values: [2, 2, 2, 2, 2]\nGuess # 3600  word: darks numguesses: 6 lastguess: darks  values: [2, 2, 2, 2, 2]\nGuess # 3700  word: deice numguesses: 6 lastguess: deice  values: [2, 2, 2, 2, 2]\nGuess # 3800  word: dewey numguesses: 4 lastguess: dewey  values: [2, 2, 2, 2, 2]\nGuess # 3900  word: dints numguesses: 3 lastguess: dints  values: [2, 2, 2, 2, 2]\nGuess # 4000  word: doits numguesses: 4 lastguess: doits  values: [2, 2, 2, 2, 2]\nGuess # 4100  word: dowly numguesses: 3 lastguess: dowly  values: [2, 2, 2, 2, 2]\nGuess # 4200  word: drusy numguesses: 4 lastguess: drusy  values: [2, 2, 2, 2, 2]\nGuess # 4300  word: duvet numguesses: 6 lastguess: duvet  values: [2, 2, 2, 2, 2]\nGuess # 4400  word: eyras numguesses: 4 lastguess: eyras  values: [2, 2, 2, 2, 2]\nGuess # 4500  word: enapt numguesses: 4 lastguess: enapt  values: [2, 2, 2, 2, 2]\nGuess # 4600  word: erika numguesses: 5 lastguess: erika  values: [2, 2, 2, 2, 2]\nGuess # 4700  word: exeat numguesses: 4 lastguess: exeat  values: [2, 2, 2, 2, 2]\nGuess # 4800  word: fanti numguesses: 3 lastguess: fanti  values: [2, 2, 2, 2, 2]\nGuess # 4900  word: fenny numguesses: 5 lastguess: fenny  values: [2, 2, 2, 2, 2]\nGuess # 5000  word: finca numguesses: 4 lastguess: finca  values: [2, 2, 2, 2, 2]\nGuess # 5100  word: flint numguesses: 3 lastguess: flint  values: [2, 2, 2, 2, 2]\nGuess # 5200  word: fonly numguesses: 5 lastguess: fonly  values: [2, 2, 2, 2, 2]\nGuess # 5300  word: fresh numguesses: 3 lastguess: fresh  values: [2, 2, 2, 2, 2]\nGuess # 5400  word: furzy numguesses: 5 lastguess: furzy  values: [2, 2, 2, 2, 2]\nGuess # 5500  word: garbo numguesses: 5 lastguess: garbo  values: [2, 2, 2, 2, 2]\nGuess # 5600  word: genoa numguesses: 4 lastguess: genoa  values: [2, 2, 2, 2, 2]\nGuess # 5700  word: gyric numguesses: 4 lastguess: gyric  values: [2, 2, 2, 2, 2]\nGuess # 5800  word: gloss numguesses: 6 lastguess: gloss  values: [2, 2, 2, 0, 2]\nGuess # 5900  word: gores numguesses: 4 lastguess: gores  values: [2, 2, 2, 2, 2]\nGuess # 6000  word: grins numguesses: 5 lastguess: grins  values: [2, 2, 2, 2, 2]\nGuess # 6100  word: gulas numguesses: 4 lastguess: gulas  values: [2, 2, 2, 2, 2]\nGuess # 6200  word: hairy numguesses: 5 lastguess: hairy  values: [2, 2, 2, 2, 2]\nGuess # 6300  word: hated numguesses: 6 lastguess: hated  values: [0, 2, 2, 2, 2]\nGuess # 6400  word: hemps numguesses: 5 lastguess: hemps  values: [2, 2, 2, 2, 2]\nGuess # 6500  word: hinny numguesses: 6 lastguess: finny  values: [0, 2, 2, 2, 2]\nGuess # 6600  word: hoods numguesses: 6 lastguess: hoods  values: [2, 2, 2, 2, 2]\nGuess # 6700  word: hunch numguesses: 6 lastguess: hunch  values: [0, 2, 2, 2, 2]\nGuess # 6800  word: iconv numguesses: 5 lastguess: iconv  values: [2, 2, 2, 2, 2]\nGuess # 6900  word: ileon numguesses: 3 lastguess: ileon  values: [2, 2, 2, 2, 2]\nGuess # 7000  word: inion numguesses: 6 lastguess: inion  values: [2, 2, 2, 2, 2]\nGuess # 7100  word: irade numguesses: 5 lastguess: irade  values: [2, 2, 2, 2, 2]\nGuess # 7200  word: jacob numguesses: 4 lastguess: jacob  values: [2, 2, 2, 2, 2]\nGuess # 7300  word: jests numguesses: 6 lastguess: jests  values: [0, 2, 2, 2, 2]\nGuess # 7400  word: judah numguesses: 4 lastguess: judah  values: [2, 2, 2, 2, 2]\nGuess # 7500  word: kanap numguesses: 6 lastguess: kanap  values: [2, 2, 2, 2, 2]\nGuess # 7600  word: kench numguesses: 5 lastguess: kench  values: [2, 2, 2, 2, 2]\nGuess # 7700  word: kimbo numguesses: 5 lastguess: kimbo  values: [2, 2, 2, 2, 2]\nGuess # 7800  word: knuth numguesses: 4 lastguess: knuth  values: [2, 2, 2, 2, 2]\nGuess # 7900  word: kulan numguesses: 5 lastguess: kulan  values: [2, 2, 2, 2, 2]\nGuess # 8000  word: lamus numguesses: 3 lastguess: lamus  values: [2, 2, 2, 2, 2]\nGuess # 8100  word: leany numguesses: 4 lastguess: leany  values: [2, 2, 2, 2, 2]\nGuess # 8200  word: levee numguesses: 5 lastguess: levee  values: [2, 2, 2, 2, 2]\nGuess # 8300  word: limps numguesses: 5 lastguess: limps  values: [2, 2, 2, 2, 2]\nGuess # 8400  word: lobes numguesses: 4 lastguess: lobes  values: [2, 2, 2, 2, 2]\nGuess # 8500  word: loulu numguesses: 5 lastguess: loulu  values: [2, 2, 2, 2, 2]\nGuess # 8600  word: lutes numguesses: 4 lastguess: lutes  values: [2, 2, 2, 2, 2]\nGuess # 8700  word: malmy numguesses: 6 lastguess: malmy  values: [0, 2, 2, 2, 2]\nGuess # 8800  word: marsi numguesses: 5 lastguess: marsi  values: [2, 2, 2, 2, 2]\nGuess # 8900  word: meets numguesses: 6 lastguess: meets  values: [0, 2, 2, 2, 2]\nGuess # 9000  word: miaow numguesses: 4 lastguess: miaow  values: [2, 2, 2, 2, 2]\nGuess # 9100  word: mires numguesses: 6 lastguess: mires  values: [2, 2, 2, 2, 2]\nGuess # 9200  word: molla numguesses: 6 lastguess: molla  values: [2, 2, 2, 2, 2]\nGuess # 9300  word: motey numguesses: 4 lastguess: motey  values: [2, 2, 2, 2, 2]\nGuess # 9400  word: munic numguesses: 3 lastguess: munic  values: [2, 2, 2, 2, 2]\nGuess # 9500  word: nanda numguesses: 6 lastguess: danda  values: [0, 2, 2, 2, 2]\nGuess # 9600  word: neral numguesses: 6 lastguess: neral  values: [2, 2, 2, 2, 2]\nGuess # 9700  word: nisse numguesses: 5 lastguess: nisse  values: [2, 2, 2, 2, 2]\nGuess # 9800  word: notre numguesses: 3 lastguess: notre  values: [2, 2, 2, 2, 2]\nGuess # 9900  word: octal numguesses: 4 lastguess: octal  values: [2, 2, 2, 2, 2]\nGuess # 10000  word: oncia numguesses: 4 lastguess: oncia  values: [2, 2, 2, 2, 2]\nGuess # 10100  word: oshea numguesses: 4 lastguess: oshea  values: [2, 2, 2, 2, 2]\nGuess # 10200  word: pacht numguesses: 6 lastguess: pacht  values: [2, 2, 2, 2, 2]\nGuess # 10300  word: papua numguesses: 6 lastguess: papua  values: [2, 2, 2, 2, 2]\nGuess # 10400  word: peage numguesses: 5 lastguess: peage  values: [2, 2, 2, 2, 2]\nGuess # 10500  word: petal numguesses: 3 lastguess: petal  values: [2, 2, 2, 2, 2]\nGuess # 10600  word: pylar numguesses: 4 lastguess: pylar  values: [2, 2, 2, 2, 2]\nGuess # 10700  word: pixie numguesses: 6 lastguess: pixie  values: [2, 2, 2, 2, 2]\nGuess # 10800  word: point numguesses: 4 lastguess: point  values: [2, 2, 2, 2, 2]\nGuess # 10900  word: possy numguesses: 5 lastguess: possy  values: [2, 2, 2, 2, 2]\nGuess # 11000  word: prodd numguesses: 5 lastguess: prodd  values: [2, 2, 2, 2, 2]\nGuess # 11100  word: punty numguesses: 5 lastguess: punty  values: [2, 2, 2, 2, 2]\nGuess # 11200  word: quipu numguesses: 5 lastguess: quipu  values: [2, 2, 2, 2, 2]\nGuess # 11300  word: ranch numguesses: 4 lastguess: ranch  values: [2, 2, 2, 2, 2]\nGuess # 11400  word: rebuy numguesses: 4 lastguess: rebuy  values: [2, 2, 2, 2, 2]\nGuess # 11500  word: remus numguesses: 5 lastguess: remus  values: [2, 2, 2, 2, 2]\nGuess # 11600  word: rhymy numguesses: 3 lastguess: rhymy  values: [2, 2, 2, 2, 2]\nGuess # 11700  word: roams numguesses: 4 lastguess: roams  values: [2, 2, 2, 2, 2]\nGuess # 11800  word: rougy numguesses: 4 lastguess: rougy  values: [2, 2, 2, 2, 2]\nGuess # 11900  word: rutty numguesses: 5 lastguess: rutty  values: [2, 2, 2, 2, 2]\nGuess # 12000  word: salts numguesses: 6 lastguess: salts  values: [2, 2, 2, 2, 2]\nGuess # 12100  word: saved numguesses: 4 lastguess: saved  values: [2, 2, 2, 2, 2]\nGuess # 12200  word: scowl numguesses: 3 lastguess: scowl  values: [2, 2, 2, 2, 2]\nGuess # 12300  word: selli numguesses: 3 lastguess: selli  values: [2, 2, 2, 2, 2]\nGuess # 12400  word: shaft numguesses: 5 lastguess: shaft  values: [2, 2, 2, 2, 2]\nGuess # 12500  word: shist numguesses: 4 lastguess: shist  values: [2, 2, 2, 2, 2]\nGuess # 12600  word: sidth numguesses: 4 lastguess: sidth  values: [2, 2, 2, 2, 2]\nGuess # 12700  word: sitao numguesses: 4 lastguess: sitao  values: [2, 2, 2, 2, 2]\nGuess # 12800  word: skuse numguesses: 4 lastguess: skuse  values: [2, 2, 2, 2, 2]\nGuess # 12900  word: slums numguesses: 5 lastguess: slums  values: [2, 2, 2, 2, 2]\nGuess # 13000  word: snood numguesses: 4 lastguess: snood  values: [2, 2, 2, 2, 2]\nGuess # 13100  word: soord numguesses: 3 lastguess: soord  values: [2, 2, 2, 2, 2]\nGuess # 13200  word: speal numguesses: 3 lastguess: speal  values: [2, 2, 2, 2, 2]\nGuess # 13300  word: spuke numguesses: 4 lastguess: spuke  values: [2, 2, 2, 2, 2]\nGuess # 13400  word: steri numguesses: 3 lastguess: steri  values: [2, 2, 2, 2, 2]\nGuess # 13500  word: stree numguesses: 6 lastguess: stree  values: [2, 2, 2, 2, 2]\nGuess # 13600  word: sumph numguesses: 4 lastguess: sumph  values: [2, 2, 2, 2, 2]\nGuess # 13700  word: swizz numguesses: 5 lastguess: swizz  values: [2, 2, 2, 2, 2]\nGuess # 13800  word: talpa numguesses: 6 lastguess: talpa  values: [2, 2, 2, 2, 2]\nGuess # 13900  word: taver numguesses: 6 lastguess: taper  values: [2, 2, 0, 2, 2]\nGuess # 14000  word: tenno numguesses: 5 lastguess: tenno  values: [2, 2, 2, 2, 2]\nGuess # 14100  word: thill numguesses: 4 lastguess: thill  values: [2, 2, 2, 2, 2]\nGuess # 14200  word: tiler numguesses: 3 lastguess: tiler  values: [2, 2, 2, 2, 2]\nGuess # 14300  word: toile numguesses: 3 lastguess: toile  values: [2, 2, 2, 2, 2]\nGuess # 14400  word: totty numguesses: 6 lastguess: potty  values: [0, 2, 2, 2, 2]\nGuess # 14500  word: trypa numguesses: 6 lastguess: trypa  values: [2, 2, 2, 2, 2]\nGuess # 14600  word: tulsi numguesses: 3 lastguess: tulsi  values: [2, 2, 2, 2, 2]\nGuess # 14700  word: uckia numguesses: 4 lastguess: uckia  values: [2, 2, 2, 2, 2]\nGuess # 14800  word: unfit numguesses: 5 lastguess: unfit  values: [2, 2, 2, 2, 2]\nGuess # 14900  word: unwon numguesses: 5 lastguess: unwon  values: [2, 2, 2, 2, 2]\nGuess # 15000  word: utees numguesses: 5 lastguess: utees  values: [2, 2, 2, 2, 2]\nGuess # 15100  word: veiny numguesses: 6 lastguess: veiny  values: [2, 2, 2, 2, 2]\nGuess # 15200  word: viner numguesses: 6 lastguess: viner  values: [0, 2, 2, 2, 2]\nGuess # 15300  word: vower numguesses: 6 lastguess: jower  values: [0, 2, 2, 2, 2]\nGuess # 15400  word: warth numguesses: 6 lastguess: warth  values: [0, 2, 2, 2, 2]\nGuess # 15500  word: whalp numguesses: 5 lastguess: whalp  values: [2, 2, 2, 2, 2]\nGuess # 15600  word: width numguesses: 4 lastguess: width  values: [2, 2, 2, 2, 2]\nGuess # 15700  word: womby numguesses: 5 lastguess: womby  values: [2, 2, 2, 2, 2]\nGuess # 15800  word: xysti numguesses: 5 lastguess: xysti  values: [2, 2, 2, 2, 2]\nGuess # 15900  word: zonic numguesses: 4 lastguess: zonic  values: [2, 2, 2, 2, 2]\nGuess # 16000  word: apgar numguesses: 5 lastguess: apgar  values: [2, 2, 2, 2, 2]\nGuess # 16100  word: beses numguesses: 6 lastguess: beses  values: [2, 2, 2, 2, 2]\nGuess # 16200  word: brane numguesses: 6 lastguess: brave  values: [2, 2, 2, 0, 2]\nGuess # 16300  word: cides numguesses: 5 lastguess: cides  values: [2, 2, 2, 2, 2]\nGuess # 16400  word: darre numguesses: 5 lastguess: darre  values: [2, 2, 2, 2, 2]\nGuess # 16500  word: dores numguesses: 6 lastguess: yores  values: [0, 2, 2, 2, 2]\nGuess # 16600  word: ennog numguesses: 5 lastguess: ennog  values: [2, 2, 2, 2, 2]\nGuess # 16700  word: flava numguesses: 5 lastguess: flava  values: [2, 2, 2, 2, 2]\nGuess # 16800  word: glias numguesses: 4 lastguess: glias  values: [2, 2, 2, 2, 2]\nGuess # 16900  word: hakas numguesses: 6 lastguess: hakas  values: [2, 2, 2, 2, 2]\nGuess # 17000  word: hyphy numguesses: 4 lastguess: hyphy  values: [2, 2, 2, 2, 2]\nGuess # 17100  word: katas numguesses: 6 lastguess: katas  values: [2, 2, 2, 2, 2]\nGuess # 17200  word: kuzus numguesses: 6 lastguess: kuzus  values: [2, 2, 2, 2, 2]\nGuess # 17300  word: losen numguesses: 4 lastguess: losen  values: [2, 2, 2, 2, 2]\nGuess # 17400  word: meynt numguesses: 3 lastguess: meynt  values: [2, 2, 2, 2, 2]\nGuess # 17500  word: napas numguesses: 6 lastguess: napas  values: [2, 2, 0, 2, 2]\nGuess # 17600  word: oppos numguesses: 4 lastguess: oppos  values: [2, 2, 2, 2, 2]\nGuess # 17700  word: pikau numguesses: 5 lastguess: pikau  values: [2, 2, 2, 2, 2]\nGuess # 17800  word: puffa numguesses: 6 lastguess: puffa  values: [2, 2, 2, 2, 2]\nGuess # 17900  word: reiks numguesses: 5 lastguess: reiks  values: [2, 2, 2, 2, 2]\nGuess # 18000  word: sados numguesses: 6 lastguess: sados  values: [0, 2, 2, 2, 2]\nGuess # 18100  word: shule numguesses: 3 lastguess: shule  values: [2, 2, 2, 2, 2]\nGuess # 18200  word: soote numguesses: 5 lastguess: soote  values: [2, 2, 2, 2, 2]\nGuess # 18300  word: swole numguesses: 6 lastguess: swole  values: [2, 2, 2, 2, 2]\nGuess # 18400  word: theic numguesses: 5 lastguess: theic  values: [2, 2, 2, 2, 2]\nGuess # 18500  word: twerk numguesses: 4 lastguess: twerk  values: [2, 2, 2, 2, 2]\nGuess # 18600  word: waite numguesses: 4 lastguess: waite  values: [2, 2, 2, 2, 2]\nGuess # 18700  word: ydred numguesses: 5 lastguess: ydred  values: [2, 2, 2, 2, 2]\n",
     "output_type": "stream"
    }
   ]
  },
  {
   "cell_type": "code",
   "metadata": {
    "cell_id": "4e248fab-2ee0-4143-b849-6c398f25056c",
    "tags": [],
    "deepnote_to_be_reexecuted": false,
    "source_hash": "42fc06ea",
    "execution_start": 1645442581416,
    "execution_millis": 81,
    "deepnote_cell_type": "code"
   },
   "source": "df = pd.DataFrame()\ndf.insert(0, 'word', words)\ndf.insert(0, 'time', times)\ndf",
   "execution_count": 77,
   "outputs": [
    {
     "output_type": "execute_result",
     "execution_count": 77,
     "data": {
      "application/vnd.deepnote.dataframe.v3+json": {
       "column_count": 2,
       "row_count": 18782,
       "columns": [
        {
         "name": "time",
         "dtype": "float64",
         "stats": {
          "unique_count": 6,
          "nan_count": 0,
          "min": "1.0",
          "max": "6.0",
          "histogram": [
           {
            "bin_start": 1,
            "bin_end": 1.5,
            "count": 1
           },
           {
            "bin_start": 1.5,
            "bin_end": 2,
            "count": 0
           },
           {
            "bin_start": 2,
            "bin_end": 2.5,
            "count": 175
           },
           {
            "bin_start": 2.5,
            "bin_end": 3,
            "count": 0
           },
           {
            "bin_start": 3,
            "bin_end": 3.5,
            "count": 2478
           },
           {
            "bin_start": 3.5,
            "bin_end": 4,
            "count": 0
           },
           {
            "bin_start": 4,
            "bin_end": 4.5,
            "count": 6570
           },
           {
            "bin_start": 4.5,
            "bin_end": 5,
            "count": 0
           },
           {
            "bin_start": 5,
            "bin_end": 5.5,
            "count": 5170
           },
           {
            "bin_start": 5.5,
            "bin_end": 6,
            "count": 4388
           }
          ]
         }
        },
        {
         "name": "word",
         "dtype": "object",
         "stats": {
          "unique_count": 18782,
          "nan_count": 0,
          "categories": [
           {
            "name": "aahed",
            "count": 1
           },
           {
            "name": "aalii",
            "count": 1
           },
           {
            "name": "18780 others",
            "count": 18780
           }
          ]
         }
        },
        {
         "name": "_deepnote_index_column",
         "dtype": "int64"
        }
       ],
       "rows": [
        {
         "time": 5,
         "word": "aahed",
         "_deepnote_index_column": 0
        },
        {
         "time": 4,
         "word": "aalii",
         "_deepnote_index_column": 1
        },
        {
         "time": 4,
         "word": "aargh",
         "_deepnote_index_column": 2
        },
        {
         "time": 6,
         "word": "aaron",
         "_deepnote_index_column": 3
        },
        {
         "time": 5,
         "word": "abaca",
         "_deepnote_index_column": 4
        },
        {
         "time": 4,
         "word": "abaci",
         "_deepnote_index_column": 5
        },
        {
         "time": 4,
         "word": "aback",
         "_deepnote_index_column": 6
        },
        {
         "time": 4,
         "word": "abada",
         "_deepnote_index_column": 7
        },
        {
         "time": 5,
         "word": "abaff",
         "_deepnote_index_column": 8
        },
        {
         "time": 5,
         "word": "abaft",
         "_deepnote_index_column": 9
        }
       ]
      },
      "text/plain": "       time   word\n0       5.0  aahed\n1       4.0  aalii\n2       4.0  aargh\n3       6.0  aaron\n4       5.0  abaca\n...     ...    ...\n18777   5.0  zowee\n18778   5.0  zupan\n18779   6.0  zupas\n18780   6.0  zuppa\n18781   5.0  zurfs\n\n[18782 rows x 2 columns]",
      "text/html": "<div>\n<style scoped>\n    .dataframe tbody tr th:only-of-type {\n        vertical-align: middle;\n    }\n\n    .dataframe tbody tr th {\n        vertical-align: top;\n    }\n\n    .dataframe thead th {\n        text-align: right;\n    }\n</style>\n<table border=\"1\" class=\"dataframe\">\n  <thead>\n    <tr style=\"text-align: right;\">\n      <th></th>\n      <th>time</th>\n      <th>word</th>\n    </tr>\n  </thead>\n  <tbody>\n    <tr>\n      <th>0</th>\n      <td>5.0</td>\n      <td>aahed</td>\n    </tr>\n    <tr>\n      <th>1</th>\n      <td>4.0</td>\n      <td>aalii</td>\n    </tr>\n    <tr>\n      <th>2</th>\n      <td>4.0</td>\n      <td>aargh</td>\n    </tr>\n    <tr>\n      <th>3</th>\n      <td>6.0</td>\n      <td>aaron</td>\n    </tr>\n    <tr>\n      <th>4</th>\n      <td>5.0</td>\n      <td>abaca</td>\n    </tr>\n    <tr>\n      <th>...</th>\n      <td>...</td>\n      <td>...</td>\n    </tr>\n    <tr>\n      <th>18777</th>\n      <td>5.0</td>\n      <td>zowee</td>\n    </tr>\n    <tr>\n      <th>18778</th>\n      <td>5.0</td>\n      <td>zupan</td>\n    </tr>\n    <tr>\n      <th>18779</th>\n      <td>6.0</td>\n      <td>zupas</td>\n    </tr>\n    <tr>\n      <th>18780</th>\n      <td>6.0</td>\n      <td>zuppa</td>\n    </tr>\n    <tr>\n      <th>18781</th>\n      <td>5.0</td>\n      <td>zurfs</td>\n    </tr>\n  </tbody>\n</table>\n<p>18782 rows × 2 columns</p>\n</div>"
     },
     "metadata": {}
    }
   ]
  },
  {
   "cell_type": "code",
   "source": "df.plot(kind='hist', by='time', ec='w', bins=np.arange(1,7))",
   "metadata": {
    "cell_id": "9cbfd4c4-6c99-4496-9d66-49cbb1e1528c",
    "tags": [],
    "deepnote_to_be_reexecuted": false,
    "source_hash": "811006af",
    "execution_start": 1645442589060,
    "execution_millis": 991,
    "deepnote_cell_type": "code"
   },
   "outputs": [
    {
     "output_type": "execute_result",
     "execution_count": 78,
     "data": {
      "text/plain": "<AxesSubplot:ylabel='Frequency'>"
     },
     "metadata": {}
    },
    {
     "data": {
      "text/plain": "<Figure size 432x288 with 1 Axes>",
      "image/png": "[encoded data removed]"
     },
     "metadata": {
      "needs_background": "light",
      "image/png": {
       "width": 401,
       "height": 252
      }
     },
     "output_type": "display_data"
    }
   ],
   "execution_count": 78
  },
  {
   "cell_type": "code",
   "metadata": {
    "cell_id": "d307f621-0f8f-4318-b9e1-d7c3959a8ab9",
    "tags": [],
    "deepnote_to_be_reexecuted": false,
    "source_hash": "d4c4f64",
    "execution_start": 1645442592318,
    "execution_millis": 236,
    "deepnote_cell_type": "code"
   },
   "source": "df.get(['time']).mean()",
   "execution_count": 79,
   "outputs": [
    {
     "output_type": "execute_result",
     "execution_count": 79,
     "data": {
      "text/plain": "time    4.59179\ndtype: float64"
     },
     "metadata": {}
    }
   ]
  },
  {
   "cell_type": "code",
   "source": " ",
   "metadata": {
    "cell_id": "ec00e1c8-2f47-4e3d-808f-75bbb0439dc0",
    "tags": [],
    "deepnote_cell_type": "code"
   },
   "outputs": [],
   "execution_count": null
  },
  {
   "cell_type": "markdown",
   "source": "<a style='text-decoration:none;line-height:16px;display:flex;color:#5B5B62;padding:10px;justify-content:end;' href='https://deepnote.com?utm_source=created-in-deepnote-cell&projectId=56450c95-ff5c-4c86-bace-c4e8cc50083e' target=\"_blank\">\n<img alt='Created in deepnote.com' style='display:inline;max-height:16px;margin:0px;margin-right:7.5px;' src='data:image/svg+xml;base64,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' > </img>\nCreated in <span style='font-weight:600;margin-left:4px;'>Deepnote</span></a>",
   "metadata": {
    "tags": [],
    "created_in_deepnote_cell": true,
    "deepnote_cell_type": "markdown"
   }
  }
 ],
 "nbformat": 4,
 "nbformat_minor": 2,
 "metadata": {
  "orig_nbformat": 2,
  "deepnote": {
   "is_reactive": false
  },
  "deepnote_notebook_id": "4f396d6d-8131-445e-8dd9-96b7a3667bcd",
  "deepnote_execution_queue": []
 }
}